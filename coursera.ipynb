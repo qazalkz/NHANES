{
  "nbformat": 4,
  "nbformat_minor": 0,
  "metadata": {
    "colab": {
      "name": "coursera.ipynb",
      "provenance": [],
      "authorship_tag": "ABX9TyNZ0w6OSrJ1iZzeHjTeLpwm",
      "include_colab_link": true
    },
    "kernelspec": {
      "name": "python3",
      "display_name": "Python 3"
    }
  },
  "cells": [
    {
      "cell_type": "markdown",
      "metadata": {
        "id": "view-in-github",
        "colab_type": "text"
      },
      "source": [
        "<a href=\"https://colab.research.google.com/github/qazalkz/NHANES/blob/main/coursera.ipynb\" target=\"_parent\"><img src=\"https://colab.research.google.com/assets/colab-badge.svg\" alt=\"Open In Colab\"/></a>"
      ]
    },
    {
      "cell_type": "code",
      "metadata": {
        "id": "1L7rkmThXhmG"
      },
      "source": [
        "import numpy as np"
      ],
      "execution_count": null,
      "outputs": []
    },
    {
      "cell_type": "code",
      "metadata": {
        "colab": {
          "base_uri": "https://localhost:8080/"
        },
        "id": "b4szp4WiXsi3",
        "outputId": "7c72c674-401b-43bb-f9c4-50d4d7cf5e31"
      },
      "source": [
        "a= np.array([1,2,3])\r\n",
        "print(type(a))"
      ],
      "execution_count": null,
      "outputs": [
        {
          "output_type": "stream",
          "text": [
            "<class 'numpy.ndarray'>\n"
          ],
          "name": "stdout"
        }
      ]
    },
    {
      "cell_type": "code",
      "metadata": {
        "colab": {
          "base_uri": "https://localhost:8080/"
        },
        "id": "i5ptF7cyX57u",
        "outputId": "1f7d5235-6a4b-4218-abb7-7629eda58578"
      },
      "source": [
        "print(a.shape)"
      ],
      "execution_count": null,
      "outputs": [
        {
          "output_type": "stream",
          "text": [
            "(3,)\n"
          ],
          "name": "stdout"
        }
      ]
    },
    {
      "cell_type": "code",
      "metadata": {
        "colab": {
          "base_uri": "https://localhost:8080/"
        },
        "id": "dWLwX-x-X-q-",
        "outputId": "f95544f6-54ed-444a-ae71-99a70cd5ebc0"
      },
      "source": [
        "print(a[0],a[1],a[2])"
      ],
      "execution_count": null,
      "outputs": [
        {
          "output_type": "stream",
          "text": [
            "1 2 3\n"
          ],
          "name": "stdout"
        }
      ]
    },
    {
      "cell_type": "code",
      "metadata": {
        "colab": {
          "base_uri": "https://localhost:8080/"
        },
        "id": "-ZiDv6AyX-tt",
        "outputId": "7f04d258-4dce-4738-b026-0c109f54d220"
      },
      "source": [
        "b=np.array([[1,2], [3,4]])\r\n",
        "print(b.shape)"
      ],
      "execution_count": null,
      "outputs": [
        {
          "output_type": "stream",
          "text": [
            "(2, 2)\n"
          ],
          "name": "stdout"
        }
      ]
    },
    {
      "cell_type": "code",
      "metadata": {
        "colab": {
          "base_uri": "https://localhost:8080/"
        },
        "id": "ds_ftUKcX-wP",
        "outputId": "9d778800-92af-4cd9-ec8e-70d054dea840"
      },
      "source": [
        "print(b)"
      ],
      "execution_count": null,
      "outputs": [
        {
          "output_type": "stream",
          "text": [
            "[[1 2]\n",
            " [3 4]]\n"
          ],
          "name": "stdout"
        }
      ]
    },
    {
      "cell_type": "code",
      "metadata": {
        "colab": {
          "base_uri": "https://localhost:8080/"
        },
        "id": "sAYiGl_DX-yX",
        "outputId": "995a63ba-032a-4996-a8f2-e286bd23bbac"
      },
      "source": [
        "print(np.shape(b))"
      ],
      "execution_count": null,
      "outputs": [
        {
          "output_type": "stream",
          "text": [
            "(2, 2)\n"
          ],
          "name": "stdout"
        }
      ]
    },
    {
      "cell_type": "code",
      "metadata": {
        "colab": {
          "base_uri": "https://localhost:8080/"
        },
        "id": "RGugupl4X-0l",
        "outputId": "19ea54e4-f606-4d45-be8a-03a2909a8a35"
      },
      "source": [
        "b[1,0]"
      ],
      "execution_count": null,
      "outputs": [
        {
          "output_type": "execute_result",
          "data": {
            "text/plain": [
              "3"
            ]
          },
          "metadata": {
            "tags": []
          },
          "execution_count": 11
        }
      ]
    },
    {
      "cell_type": "code",
      "metadata": {
        "colab": {
          "base_uri": "https://localhost:8080/"
        },
        "id": "6yyUJRszX-2o",
        "outputId": "e7bafb4d-b9ba-4e63-ad41-886469372e17"
      },
      "source": [
        "c=np.zeros((3,2))\r\n",
        "print(c)"
      ],
      "execution_count": null,
      "outputs": [
        {
          "output_type": "stream",
          "text": [
            "[[0. 0.]\n",
            " [0. 0.]\n",
            " [0. 0.]]\n"
          ],
          "name": "stdout"
        }
      ]
    },
    {
      "cell_type": "code",
      "metadata": {
        "colab": {
          "base_uri": "https://localhost:8080/"
        },
        "id": "31qh6ExyX-4t",
        "outputId": "2f7affaa-1a13-4d80-e9aa-fae111469c3d"
      },
      "source": [
        "d=np.ones((3,2))\r\n",
        "print(d)"
      ],
      "execution_count": null,
      "outputs": [
        {
          "output_type": "stream",
          "text": [
            "[[1. 1.]\n",
            " [1. 1.]\n",
            " [1. 1.]]\n"
          ],
          "name": "stdout"
        }
      ]
    },
    {
      "cell_type": "code",
      "metadata": {
        "colab": {
          "base_uri": "https://localhost:8080/"
        },
        "id": "iMVVzlZpX-61",
        "outputId": "d1aeaa56-5715-48c4-eb10-c2fb90813de7"
      },
      "source": [
        "e= np.full((3,3),9)\r\n",
        "print(e)"
      ],
      "execution_count": null,
      "outputs": [
        {
          "output_type": "stream",
          "text": [
            "[[9 9 9]\n",
            " [9 9 9]\n",
            " [9 9 9]]\n"
          ],
          "name": "stdout"
        }
      ]
    },
    {
      "cell_type": "code",
      "metadata": {
        "colab": {
          "base_uri": "https://localhost:8080/"
        },
        "id": "q_sUdO6OX-9H",
        "outputId": "f597ec67-4b48-466d-80bf-4965677cdd4a"
      },
      "source": [
        "f=np.random.random((3,3))\r\n",
        "print(f)"
      ],
      "execution_count": null,
      "outputs": [
        {
          "output_type": "stream",
          "text": [
            "[[0.15233202 0.08642519 0.88583058]\n",
            " [0.15766613 0.0093136  0.88288227]\n",
            " [0.11979456 0.90807781 0.40468293]]\n"
          ],
          "name": "stdout"
        }
      ]
    },
    {
      "cell_type": "code",
      "metadata": {
        "colab": {
          "base_uri": "https://localhost:8080/"
        },
        "id": "EnLr2tNBX-_R",
        "outputId": "939a7ef8-d3ff-49cf-d92d-87a6d02b0aa6"
      },
      "source": [
        "h=np.array([[1,2,3,4],[5,6,7,8],[9,1,11,12]])\r\n",
        "print(h)"
      ],
      "execution_count": null,
      "outputs": [
        {
          "output_type": "stream",
          "text": [
            "[[ 1  2  3  4]\n",
            " [ 5  6  7  8]\n",
            " [ 9  1 11 12]]\n"
          ],
          "name": "stdout"
        }
      ]
    },
    {
      "cell_type": "code",
      "metadata": {
        "colab": {
          "base_uri": "https://localhost:8080/"
        },
        "id": "dfk8gTtKkRpr",
        "outputId": "a09c269c-777f-43e1-fd00-28950621f415"
      },
      "source": [
        "h=h[ :2,1: 3]\r\n",
        "print(h)"
      ],
      "execution_count": null,
      "outputs": [
        {
          "output_type": "stream",
          "text": [
            "[[2 3]\n",
            " [6 7]]\n"
          ],
          "name": "stdout"
        }
      ]
    },
    {
      "cell_type": "code",
      "metadata": {
        "colab": {
          "base_uri": "https://localhost:8080/"
        },
        "id": "TfYfPy2PkRyo",
        "outputId": "a23662be-f13d-4c0d-e6f5-f208ef3c0074"
      },
      "source": [
        "h=np.array([[1,2,3,4],[5,6,7,8],[9,1,11,12]])\r\n",
        "i=h[ :2,1: 3]\r\n",
        "print(h)"
      ],
      "execution_count": null,
      "outputs": [
        {
          "output_type": "stream",
          "text": [
            "[[ 1  2  3  4]\n",
            " [ 5  6  7  8]\n",
            " [ 9  1 11 12]]\n"
          ],
          "name": "stdout"
        }
      ]
    },
    {
      "cell_type": "code",
      "metadata": {
        "colab": {
          "base_uri": "https://localhost:8080/"
        },
        "id": "jYYuffvQkR4H",
        "outputId": "8ae30a4e-a276-409c-c783-4f39a75758de"
      },
      "source": [
        "print(i)"
      ],
      "execution_count": null,
      "outputs": [
        {
          "output_type": "stream",
          "text": [
            "[[2 3]\n",
            " [6 7]]\n"
          ],
          "name": "stdout"
        }
      ]
    },
    {
      "cell_type": "code",
      "metadata": {
        "colab": {
          "base_uri": "https://localhost:8080/"
        },
        "id": "ebHnwoehpxfz",
        "outputId": "19f1be12-9ff1-4085-9130-3a01653b4ea3"
      },
      "source": [
        "i[0,0]=500\r\n",
        "print(h)"
      ],
      "execution_count": null,
      "outputs": [
        {
          "output_type": "stream",
          "text": [
            "[[  1 500   3   4]\n",
            " [  5   6   7   8]\n",
            " [  9   1  11  12]]\n"
          ],
          "name": "stdout"
        }
      ]
    },
    {
      "cell_type": "code",
      "metadata": {
        "colab": {
          "base_uri": "https://localhost:8080/"
        },
        "id": "AZzeVJHGpxlv",
        "outputId": "4a3d943f-c3f5-451b-ac6d-03989aaa80ed"
      },
      "source": [
        "j=np.array([1,2])\r\n",
        "print(j.dtype)\r\n",
        "k=np.array([1.0,2.0])\r\n",
        "print(k.dtype)\r\n",
        "l=np.array([1.0,2.0],dtype=np.int64)\r\n",
        "print(l.dtype)"
      ],
      "execution_count": null,
      "outputs": [
        {
          "output_type": "stream",
          "text": [
            "int64\n",
            "float64\n",
            "int64\n"
          ],
          "name": "stdout"
        }
      ]
    },
    {
      "cell_type": "code",
      "metadata": {
        "colab": {
          "base_uri": "https://localhost:8080/"
        },
        "id": "1oVVCYR_pxoe",
        "outputId": "f0551352-9452-4f4d-fc68-c0a6db63f93e"
      },
      "source": [
        "x=np.array([[1,2],[3,4]], dtype=np.float64)\r\n",
        "y=np.array([[5,6],[7,8]], dtype=np.float64)\r\n",
        "print(x+y)"
      ],
      "execution_count": null,
      "outputs": [
        {
          "output_type": "stream",
          "text": [
            "[[ 6.  8.]\n",
            " [10. 12.]]\n"
          ],
          "name": "stdout"
        }
      ]
    },
    {
      "cell_type": "code",
      "metadata": {
        "colab": {
          "base_uri": "https://localhost:8080/"
        },
        "id": "yJ2KC0tqpxt2",
        "outputId": "4fa85907-417e-4ae3-baa8-d32f85f0b80f"
      },
      "source": [
        "print(x-y)"
      ],
      "execution_count": null,
      "outputs": [
        {
          "output_type": "stream",
          "text": [
            "[[-4. -4.]\n",
            " [-4. -4.]]\n"
          ],
          "name": "stdout"
        }
      ]
    },
    {
      "cell_type": "code",
      "metadata": {
        "colab": {
          "base_uri": "https://localhost:8080/"
        },
        "id": "QLC4mCgM0oul",
        "outputId": "7c865d84-b37e-4b5a-d950-6ad3da6efee5"
      },
      "source": [
        "print(x*y)"
      ],
      "execution_count": null,
      "outputs": [
        {
          "output_type": "stream",
          "text": [
            "[[ 5. 12.]\n",
            " [21. 32.]]\n"
          ],
          "name": "stdout"
        }
      ]
    },
    {
      "cell_type": "code",
      "metadata": {
        "colab": {
          "base_uri": "https://localhost:8080/"
        },
        "id": "yVeKoSWh0r3p",
        "outputId": "2065d1f5-4806-49ab-82be-dd5555ec85b1"
      },
      "source": [
        "print(x/y)"
      ],
      "execution_count": null,
      "outputs": [
        {
          "output_type": "stream",
          "text": [
            "[[0.2        0.33333333]\n",
            " [0.42857143 0.5       ]]\n"
          ],
          "name": "stdout"
        }
      ]
    },
    {
      "cell_type": "code",
      "metadata": {
        "colab": {
          "base_uri": "https://localhost:8080/"
        },
        "id": "fOkUh2-M0sGs",
        "outputId": "d27ca8e7-cbf2-43ca-c16e-9fc2ed6f91bd"
      },
      "source": [
        "print(np.sqrt(x))"
      ],
      "execution_count": null,
      "outputs": [
        {
          "output_type": "stream",
          "text": [
            "[[1.         1.41421356]\n",
            " [1.73205081 2.        ]]\n"
          ],
          "name": "stdout"
        }
      ]
    },
    {
      "cell_type": "code",
      "metadata": {
        "colab": {
          "base_uri": "https://localhost:8080/"
        },
        "id": "jtY8xZLN0sJY",
        "outputId": "2abfe14d-5087-4300-978c-bb0c00fd85f4"
      },
      "source": [
        "np.sum(x)"
      ],
      "execution_count": null,
      "outputs": [
        {
          "output_type": "execute_result",
          "data": {
            "text/plain": [
              "10.0"
            ]
          },
          "metadata": {
            "tags": []
          },
          "execution_count": 42
        }
      ]
    },
    {
      "cell_type": "code",
      "metadata": {
        "colab": {
          "base_uri": "https://localhost:8080/"
        },
        "id": "-iGUspqG0sLz",
        "outputId": "d7d18c2f-e893-44c7-b4c8-3d99bdfe5ee3"
      },
      "source": [
        "np.sum(x , axis=0)"
      ],
      "execution_count": null,
      "outputs": [
        {
          "output_type": "execute_result",
          "data": {
            "text/plain": [
              "array([4., 6.])"
            ]
          },
          "metadata": {
            "tags": []
          },
          "execution_count": 43
        }
      ]
    },
    {
      "cell_type": "code",
      "metadata": {
        "colab": {
          "base_uri": "https://localhost:8080/"
        },
        "id": "PMzT9BHX0sO3",
        "outputId": "3dbdbc8e-20b4-4075-d278-b8739098a4c0"
      },
      "source": [
        "np.sum(x , axis=1)"
      ],
      "execution_count": null,
      "outputs": [
        {
          "output_type": "execute_result",
          "data": {
            "text/plain": [
              "array([3., 7.])"
            ]
          },
          "metadata": {
            "tags": []
          },
          "execution_count": 44
        }
      ]
    },
    {
      "cell_type": "code",
      "metadata": {
        "id": "7NzBpNyd0sQU"
      },
      "source": [
        "from scipy import stats\r\n",
        "import numpy as np\r\n"
      ],
      "execution_count": null,
      "outputs": []
    },
    {
      "cell_type": "code",
      "metadata": {
        "colab": {
          "base_uri": "https://localhost:8080/"
        },
        "id": "509ntf7A0sSe",
        "outputId": "f5c32691-5bf5-4883-e9d6-6b9e680c786d"
      },
      "source": [
        "print(stats.norm.rvs(size=10))"
      ],
      "execution_count": null,
      "outputs": [
        {
          "output_type": "stream",
          "text": [
            "[-1.47961226  0.57910918  1.06477095 -0.13213005 -2.32416636  2.54481984\n",
            "  2.16631165  0.2304142   1.22295213  0.46118611]\n"
          ],
          "name": "stdout"
        }
      ]
    },
    {
      "cell_type": "code",
      "metadata": {
        "id": "dqNouMwl9ipR"
      },
      "source": [
        "np.random.seed(1234)\r\n",
        "x=stats.t.rvs(10,size=1000)"
      ],
      "execution_count": null,
      "outputs": []
    },
    {
      "cell_type": "code",
      "metadata": {
        "colab": {
          "base_uri": "https://localhost:8080/"
        },
        "id": "3u_U5pAM9isP",
        "outputId": "d25eda73-af07-4e07-9008-0d19b9f7f8a8"
      },
      "source": [
        "print(x.min())"
      ],
      "execution_count": null,
      "outputs": [
        {
          "output_type": "stream",
          "text": [
            "-3.7081318682862507\n"
          ],
          "name": "stdout"
        }
      ]
    },
    {
      "cell_type": "code",
      "metadata": {
        "colab": {
          "base_uri": "https://localhost:8080/"
        },
        "id": "QWJDmFk19iul",
        "outputId": "6adcc43e-e699-4e86-e953-507e543ea269"
      },
      "source": [
        "print(x.max())"
      ],
      "execution_count": null,
      "outputs": [
        {
          "output_type": "stream",
          "text": [
            "5.489762351653657\n"
          ],
          "name": "stdout"
        }
      ]
    },
    {
      "cell_type": "code",
      "metadata": {
        "colab": {
          "base_uri": "https://localhost:8080/"
        },
        "id": "_Mffr6dt9ixf",
        "outputId": "34e72c08-7428-457e-9491-14d5816d06a6"
      },
      "source": [
        "print(x.mean())"
      ],
      "execution_count": null,
      "outputs": [
        {
          "output_type": "stream",
          "text": [
            "0.03301501424446721\n"
          ],
          "name": "stdout"
        }
      ]
    },
    {
      "cell_type": "code",
      "metadata": {
        "colab": {
          "base_uri": "https://localhost:8080/"
        },
        "id": "x0l3QnR-9i0G",
        "outputId": "3c70ec56-c136-4332-af74-8b558a71172f"
      },
      "source": [
        "print(x.var())"
      ],
      "execution_count": null,
      "outputs": [
        {
          "output_type": "stream",
          "text": [
            "1.216841589019068\n"
          ],
          "name": "stdout"
        }
      ]
    },
    {
      "cell_type": "code",
      "metadata": {
        "colab": {
          "base_uri": "https://localhost:8080/"
        },
        "id": "IuwZ6upc9i21",
        "outputId": "394d1ddb-7f9f-4e3d-e12e-54e26b9ad576"
      },
      "source": [
        "stats.describe(x)"
      ],
      "execution_count": null,
      "outputs": [
        {
          "output_type": "execute_result",
          "data": {
            "text/plain": [
              "DescribeResult(nobs=1000, minmax=(-3.7081318682862507, 5.489762351653657), mean=0.03301501424446721, variance=1.2180596486677358, skewness=0.017360162164788, kurtosis=0.9792361694613958)"
            ]
          },
          "metadata": {
            "tags": []
          },
          "execution_count": 54
        }
      ]
    },
    {
      "cell_type": "code",
      "metadata": {
        "id": "dRsgP81N9i5W"
      },
      "source": [
        "\r\n"
      ],
      "execution_count": null,
      "outputs": []
    },
    {
      "cell_type": "code",
      "metadata": {
        "id": "PbY7FgfX-hE-"
      },
      "source": [
        ""
      ],
      "execution_count": null,
      "outputs": []
    },
    {
      "cell_type": "code",
      "metadata": {
        "id": "cVJuwatd-hHw"
      },
      "source": [
        ""
      ],
      "execution_count": null,
      "outputs": []
    },
    {
      "cell_type": "code",
      "metadata": {
        "id": "qLB1qZaQ-hJy"
      },
      "source": [
        ""
      ],
      "execution_count": null,
      "outputs": []
    },
    {
      "cell_type": "code",
      "metadata": {
        "id": "waPr_Awr-hL_"
      },
      "source": [
        ""
      ],
      "execution_count": null,
      "outputs": []
    }
  ]
}